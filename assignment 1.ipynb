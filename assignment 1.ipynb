{
 "cells": [
  {
   "cell_type": "code",
   "execution_count": 1,
   "id": "a4923128",
   "metadata": {},
   "outputs": [
    {
     "data": {
      "text/plain": [
       "'  What is 7 to the power of 4?\\n'"
      ]
     },
     "execution_count": 1,
     "metadata": {},
     "output_type": "execute_result"
    }
   ],
   "source": [
    "'''  What is 7 to the power of 4?\n",
    "'''"
   ]
  },
  {
   "cell_type": "code",
   "execution_count": 2,
   "id": "31396894",
   "metadata": {},
   "outputs": [
    {
     "data": {
      "text/plain": [
       "2401"
      ]
     },
     "execution_count": 2,
     "metadata": {},
     "output_type": "execute_result"
    }
   ],
   "source": [
    "7**4"
   ]
  },
  {
   "cell_type": "code",
   "execution_count": 3,
   "id": "20942e05",
   "metadata": {},
   "outputs": [
    {
     "data": {
      "text/plain": [
       "' Split this string:**\\n\\ns = \"Hi there Yogesh!\"\\n**into a list. ** '"
      ]
     },
     "execution_count": 3,
     "metadata": {},
     "output_type": "execute_result"
    }
   ],
   "source": [
    "''' Split this string:**\n",
    "\n",
    "s = \"Hi there Yogesh!\"\n",
    "**into a list. ** '''"
   ]
  },
  {
   "cell_type": "code",
   "execution_count": 4,
   "id": "9dc2c218",
   "metadata": {},
   "outputs": [],
   "source": [
    "s = \" Hi there yogesh !\""
   ]
  },
  {
   "cell_type": "code",
   "execution_count": 5,
   "id": "dc7c2568",
   "metadata": {},
   "outputs": [
    {
     "data": {
      "text/plain": [
       "['Hi', 'there', 'yogesh', '!']"
      ]
     },
     "execution_count": 5,
     "metadata": {},
     "output_type": "execute_result"
    }
   ],
   "source": [
    "s.split()"
   ]
  },
  {
   "cell_type": "code",
   "execution_count": 6,
   "id": "5e8fc51c",
   "metadata": {},
   "outputs": [
    {
     "data": {
      "text/plain": [
       "'  Given the variables:**\\n\\nplanet = \"Earth\"\\ndiameter = 12742\\n** Use .format() to print the following string: **\\n\\nThe diameter of Earth is 12742 kilometers.'"
      ]
     },
     "execution_count": 6,
     "metadata": {},
     "output_type": "execute_result"
    }
   ],
   "source": [
    "'''  Given the variables:**\n",
    "\n",
    "planet = \"Earth\"\n",
    "diameter = 12742\n",
    "** Use .format() to print the following string: **\n",
    "\n",
    "The diameter of Earth is 12742 kilometers.'''"
   ]
  },
  {
   "cell_type": "code",
   "execution_count": 7,
   "id": "4d90fa31",
   "metadata": {},
   "outputs": [],
   "source": [
    "planet = \"Earth\"\n",
    "diameter = 12742"
   ]
  },
  {
   "cell_type": "code",
   "execution_count": 8,
   "id": "15c6f273",
   "metadata": {},
   "outputs": [
    {
     "name": "stdout",
     "output_type": "stream",
     "text": [
      "The diameter of Earth is 12742 kilometers.\n"
     ]
    }
   ],
   "source": [
    "print(\"The diameter of {} is {} kilometers.\".format(planet ,diameter))"
   ]
  },
  {
   "cell_type": "code",
   "execution_count": 9,
   "id": "dd86445c",
   "metadata": {},
   "outputs": [
    {
     "data": {
      "text/plain": [
       "' Given this nested list, use indexing to grab the word \"hello\" **\\n\\nlst = [1,2,[3,4],[5,[100,200,[\\'hello\\']],23,11],1,7]'"
      ]
     },
     "execution_count": 9,
     "metadata": {},
     "output_type": "execute_result"
    }
   ],
   "source": [
    "''' Given this nested list, use indexing to grab the word \"hello\" **\n",
    "\n",
    "lst = [1,2,[3,4],[5,[100,200,['hello']],23,11],1,7]'''"
   ]
  },
  {
   "cell_type": "code",
   "execution_count": 10,
   "id": "53ce8537",
   "metadata": {},
   "outputs": [],
   "source": [
    "list = [1,2,[3,4],[5,[100,200,['hello']],23,11],1,7]"
   ]
  },
  {
   "cell_type": "code",
   "execution_count": 11,
   "id": "557cdaf0",
   "metadata": {},
   "outputs": [
    {
     "data": {
      "text/plain": [
       "'hello'"
      ]
     },
     "execution_count": 11,
     "metadata": {},
     "output_type": "execute_result"
    }
   ],
   "source": [
    "list[3][1][2][0]"
   ]
  },
  {
   "cell_type": "code",
   "execution_count": 1,
   "id": "f83e75d3",
   "metadata": {},
   "outputs": [
    {
     "data": {
      "text/plain": [
       "' What is the main difference between a tuple and a list?'"
      ]
     },
     "execution_count": 1,
     "metadata": {},
     "output_type": "execute_result"
    }
   ],
   "source": [
    "''' What is the main difference between a tuple and a list?'''"
   ]
  },
  {
   "cell_type": "code",
   "execution_count": 2,
   "id": "f8524665",
   "metadata": {},
   "outputs": [],
   "source": [
    "# Tuple is immutable and list is mutable "
   ]
  },
  {
   "cell_type": "code",
   "execution_count": 3,
   "id": "f069437d",
   "metadata": {},
   "outputs": [
    {
     "data": {
      "text/plain": [
       "'  Create a function that grabs the email website domain from a string in the form: **\\n\\nuser@domain.com\\nSo for example, passing \"user@domain.com\" would return: domain.com\\n\\n '"
      ]
     },
     "execution_count": 3,
     "metadata": {},
     "output_type": "execute_result"
    }
   ],
   "source": [
    "'''  Create a function that grabs the email website domain from a string in the form: **\n",
    "\n",
    "user@domain.com\n",
    "So for example, passing \"user@domain.com\" would return: domain.com\n",
    "\n",
    " '''"
   ]
  },
  {
   "cell_type": "code",
   "execution_count": 6,
   "id": "f46d7c62",
   "metadata": {},
   "outputs": [],
   "source": [
    "def fun(mailID):\n",
    "        splits=mailID.lower().split('@')\n",
    "        return splits[1]"
   ]
  },
  {
   "cell_type": "code",
   "execution_count": 7,
   "id": "2aab7642",
   "metadata": {},
   "outputs": [
    {
     "data": {
      "text/plain": [
       "'gmail.com'"
      ]
     },
     "execution_count": 7,
     "metadata": {},
     "output_type": "execute_result"
    }
   ],
   "source": [
    "fun('mayurghorpade10@gmail.com')"
   ]
  },
  {
   "cell_type": "code",
   "execution_count": 8,
   "id": "f9116487",
   "metadata": {},
   "outputs": [
    {
     "data": {
      "text/plain": [
       "\"  Create a basic function that returns True if the word 'dog' is contained in the input string. Don't worry about edge cases like a punctuation being attached to the word dog, but do account for capitalization.\""
      ]
     },
     "execution_count": 8,
     "metadata": {},
     "output_type": "execute_result"
    }
   ],
   "source": [
    "'''  Create a basic function that returns True if the word 'dog' is contained in the input string. Don't worry about edge cases like a punctuation being attached to the word dog, but do account for capitalization.'''"
   ]
  },
  {
   "cell_type": "code",
   "execution_count": 9,
   "id": "65a772a4",
   "metadata": {},
   "outputs": [],
   "source": [
    "def find_dog(sentense):\n",
    "    splits = sentense.lower().split()\n",
    "    return 'dog' in splits "
   ]
  },
  {
   "cell_type": "code",
   "execution_count": 11,
   "id": "ba63a5b0",
   "metadata": {},
   "outputs": [
    {
     "data": {
      "text/plain": [
       "True"
      ]
     },
     "execution_count": 11,
     "metadata": {},
     "output_type": "execute_result"
    }
   ],
   "source": [
    "find_dog(' Is there a dog here ?')"
   ]
  },
  {
   "cell_type": "code",
   "execution_count": 12,
   "id": "c6dddc21",
   "metadata": {},
   "outputs": [
    {
     "data": {
      "text/plain": [
       "'  Create a function that counts the number of times the word \"dog\" occurs in a string. Again ignore edge cases. '"
      ]
     },
     "execution_count": 12,
     "metadata": {},
     "output_type": "execute_result"
    }
   ],
   "source": [
    "'''  Create a function that counts the number of times the word \"dog\" occurs in a string. Again ignore edge cases. '''"
   ]
  },
  {
   "cell_type": "code",
   "execution_count": 13,
   "id": "d0d1f098",
   "metadata": {},
   "outputs": [],
   "source": [
    "def count_dog(sentense):\n",
    "    dogcount = 0\n",
    "    splits =sentense.lower().split()\n",
    "    for i in splits :\n",
    "        if 'dog'==i:\n",
    "            dogcount=dogcount+1\n",
    "    return  dogcount        "
   ]
  },
  {
   "cell_type": "code",
   "execution_count": 14,
   "id": "345ad094",
   "metadata": {},
   "outputs": [
    {
     "data": {
      "text/plain": [
       "2"
      ]
     },
     "execution_count": 14,
     "metadata": {},
     "output_type": "execute_result"
    }
   ],
   "source": [
    "count_dog('This dog runs faster than the other dog dude !')"
   ]
  },
  {
   "cell_type": "code",
   "execution_count": 15,
   "id": "51f933c6",
   "metadata": {},
   "outputs": [
    {
     "data": {
      "text/plain": [
       "\" Use lambda expressions and the filter() function to filter out words from a list that don't start with the letter 's'. For example:**\\n\\nseq = ['soup','dog','salad','cat','great']\\nshould be filtered down to:\\n\\n['soup','salad']\""
      ]
     },
     "execution_count": 15,
     "metadata": {},
     "output_type": "execute_result"
    }
   ],
   "source": [
    "''' Use lambda expressions and the filter() function to filter out words from a list that don't start with the letter 's'. For example:**\n",
    "\n",
    "seq = ['soup','dog','salad','cat','great']\n",
    "should be filtered down to:\n",
    "\n",
    "['soup','salad']'''"
   ]
  },
  {
   "cell_type": "code",
   "execution_count": 16,
   "id": "085a87c3",
   "metadata": {},
   "outputs": [],
   "source": [
    "seq = [ 'soup','dog','salad','cat','great']"
   ]
  },
  {
   "cell_type": "code",
   "execution_count": 17,
   "id": "26f0bc9d",
   "metadata": {},
   "outputs": [
    {
     "data": {
      "text/plain": [
       "['dog', 'cat', 'great']"
      ]
     },
     "execution_count": 17,
     "metadata": {},
     "output_type": "execute_result"
    }
   ],
   "source": [
    "list(filter(lambda x : x[0]!= 's', seq))"
   ]
  },
  {
   "cell_type": "code",
   "execution_count": 18,
   "id": "0fd6c853",
   "metadata": {},
   "outputs": [
    {
     "data": {
      "text/plain": [
       "' You are driving a little too fast, and a police officer stops you. Write a function to return one of 3 possible results: \"No ticket\", \"Small ticket\", or \"Big Ticket\". If your speed is 60 or less, the result is \"No Ticket\". If speed is between 61 and 80 inclusive, the result is \"Small Ticket\". If speed is 81 or more, the result is \"Big Ticket\". Unless it is your birthday (encoded as a boolean value in the parameters of the function) -- on your birthday, your speed can be 5 higher in all cases.'"
      ]
     },
     "execution_count": 18,
     "metadata": {},
     "output_type": "execute_result"
    }
   ],
   "source": [
    "''' You are driving a little too fast, and a police officer stops you. Write a function to return one of 3 possible results: \"No ticket\", \"Small ticket\", or \"Big Ticket\". If your speed is 60 or less, the result is \"No Ticket\". If speed is between 61 and 80 inclusive, the result is \"Small Ticket\". If speed is 81 or more, the result is \"Big Ticket\". Unless it is your birthday (encoded as a boolean value in the parameters of the function) -- on your birthday, your speed can be 5 higher in all cases.'''"
   ]
  },
  {
   "cell_type": "code",
   "execution_count": 19,
   "id": "a8c66b49",
   "metadata": {},
   "outputs": [],
   "source": [
    "def catch_speeding (speed, birthday):\n",
    "    if birthday == True :\n",
    "        speed = speed-5\n",
    "    if speed > 80:\n",
    "        return ' Big ticket '\n",
    "    elif speed > 60:\n",
    "        return ' small ticket '\n",
    "    else:\n",
    "        return ' no ticket '"
   ]
  },
  {
   "cell_type": "code",
   "execution_count": 21,
   "id": "d95f6e57",
   "metadata": {},
   "outputs": [
    {
     "data": {
      "text/plain": [
       "' small ticket '"
      ]
     },
     "execution_count": 21,
     "metadata": {},
     "output_type": "execute_result"
    }
   ],
   "source": [
    "catch_speeding(84,True)"
   ]
  },
  {
   "cell_type": "code",
   "execution_count": 22,
   "id": "909bc9e5",
   "metadata": {},
   "outputs": [
    {
     "data": {
      "text/plain": [
       "' Big ticket '"
      ]
     },
     "execution_count": 22,
     "metadata": {},
     "output_type": "execute_result"
    }
   ],
   "source": [
    "catch_speeding(86,True)"
   ]
  },
  {
   "cell_type": "code",
   "execution_count": 23,
   "id": "639bdc1c",
   "metadata": {},
   "outputs": [
    {
     "data": {
      "text/plain": [
       "' Big ticket '"
      ]
     },
     "execution_count": 23,
     "metadata": {},
     "output_type": "execute_result"
    }
   ],
   "source": [
    "catch_speeding(83,False)"
   ]
  },
  {
   "cell_type": "code",
   "execution_count": 24,
   "id": "a11527d5",
   "metadata": {},
   "outputs": [
    {
     "data": {
      "text/plain": [
       "\" Question\\nGiven a string print number num by extracting all the\\ndigits from the string as in string\\nPrint negative number if the first character in \\nstring is '-'\\neg.\\n-123abcd should return -123,abcd456-->456,fdhfh78dsd89--->7889,-56dssd78-->-5678\""
      ]
     },
     "execution_count": 24,
     "metadata": {},
     "output_type": "execute_result"
    }
   ],
   "source": [
    "''' Question\n",
    "Given a string print number num by extracting all the\n",
    "digits from the string as in string\n",
    "Print negative number if the first character in \n",
    "string is '-'\n",
    "eg.\n",
    "-123abcd should return -123,abcd456-->456,fdhfh78dsd89--->7889,-56dssd78-->-5678'''"
   ]
  },
  {
   "cell_type": "code",
   "execution_count": 25,
   "id": "aa8fb7ca",
   "metadata": {},
   "outputs": [],
   "source": [
    "def print_numbers( sample_String):\n",
    "    returnString=''\n",
    "    for i in sample_String:\n",
    "        if i=='-':\n",
    "            returnString=returnString+i\n",
    "        elif i in 'abcdefghijklmnopqrstuvwxyz':\n",
    "            continue \n",
    "        else:\n",
    "            returnString=returnString+i\n",
    "    return returnString        "
   ]
  },
  {
   "cell_type": "code",
   "execution_count": 26,
   "id": "63082a38",
   "metadata": {},
   "outputs": [
    {
     "data": {
      "text/plain": [
       "'-5678'"
      ]
     },
     "execution_count": 26,
     "metadata": {},
     "output_type": "execute_result"
    }
   ],
   "source": [
    "print_numbers('-56dssd78')"
   ]
  },
  {
   "cell_type": "code",
   "execution_count": 27,
   "id": "5d404d57",
   "metadata": {},
   "outputs": [
    {
     "data": {
      "text/plain": [
       "' Q2\\nWAP to check whether a number is palindrome or not on following \\nconditions.\\n1. take input number\\n2. add number and its reverse\\n3. check that number is palindrome or not,if not then sum and its reverse'"
      ]
     },
     "execution_count": 27,
     "metadata": {},
     "output_type": "execute_result"
    }
   ],
   "source": [
    "''' Q2\n",
    "WAP to check whether a number is palindrome or not on following \n",
    "conditions.\n",
    "1. take input number\n",
    "2. add number and its reverse\n",
    "3. check that number is palindrome or not,if not then sum and its reverse'''"
   ]
  },
  {
   "cell_type": "code",
   "execution_count": 29,
   "id": "1b16973a",
   "metadata": {},
   "outputs": [
    {
     "name": "stdout",
     "output_type": "stream",
     "text": [
      "Enter the number:5356\n",
      " Number is: 31702\n",
      " Reverse is  20713\n",
      " Number is: 52415\n",
      " Reverse is  51425\n",
      " Number is: 103840\n",
      " Reverse is  048301\n",
      " Number is: 152141\n",
      " Reverse is  141251\n",
      " Number is: 293392\n",
      " Reverse is  293392\n",
      " palindrome is 293392\n"
     ]
    }
   ],
   "source": [
    "n1=input(\"Enter the number:\")\n",
    "n2=int(n1[::-1])\n",
    "n3=str(int(n1)+n2)\n",
    "while n3!=n3[::-1]:\n",
    "    n3=str(int(n3)+int(n3[::-1]))\n",
    "    print(\" Number is:\",n3)\n",
    "    print(\" Reverse is \",n3[::-1])\n",
    "print(\" palindrome is\",n3)    "
   ]
  },
  {
   "cell_type": "code",
   "execution_count": 30,
   "id": "30c9d40b",
   "metadata": {},
   "outputs": [
    {
     "data": {
      "text/plain": [
       "' Write a python function to find and display the five \\ndigit number in which the first digit is two more than \\nthe second,the second digit is two more than the third,\\nthe fourth digit is two less than the third, and the \\nlast digit is two more than\\nthe fourth.The sum of the third,fourth and fifth digits\\nequals the first.The sum of all the digits is 19'"
      ]
     },
     "execution_count": 30,
     "metadata": {},
     "output_type": "execute_result"
    }
   ],
   "source": [
    "''' Write a python function to find and display the five \n",
    "digit number in which the first digit is two more than \n",
    "the second,the second digit is two more than the third,\n",
    "the fourth digit is two less than the third, and the \n",
    "last digit is two more than\n",
    "the fourth.The sum of the third,fourth and fifth digits\n",
    "equals the first.The sum of all the digits is 19'''"
   ]
  },
  {
   "cell_type": "code",
   "execution_count": 31,
   "id": "e5abf368",
   "metadata": {},
   "outputs": [],
   "source": [
    "def find_five_digit():\n",
    "    sum_of_all_required=19\n",
    "    sum_of_all =0\n",
    "    first =1\n",
    "    second=0\n",
    "    fourth=0\n",
    "    fifth=0\n",
    "    while (sum_of_all!=19):\n",
    "        print(first)\n",
    "        first=first+1\n",
    "        second=2-first\n",
    "        third=second-2\n",
    "        fourth=2-third\n",
    "        fifth=2+fourth\n",
    "        sum_of_all=first+second+third+fourth+fifth\n",
    "    five_digit=[first,second,third,fourth,fifth]\n",
    "    return five_digit"
   ]
  },
  {
   "cell_type": "code",
   "execution_count": 32,
   "id": "80dbbe87",
   "metadata": {},
   "outputs": [
    {
     "data": {
      "text/plain": [
       "' Answer (75313) i know but failing to get it'"
      ]
     },
     "execution_count": 32,
     "metadata": {},
     "output_type": "execute_result"
    }
   ],
   "source": [
    "''' Answer (75313) i know but failing to get it'''"
   ]
  },
  {
   "cell_type": "code",
   "execution_count": 33,
   "id": "07a476b9",
   "metadata": {},
   "outputs": [
    {
     "name": "stdout",
     "output_type": "stream",
     "text": [
      "1\n",
      "2\n",
      "3\n",
      "4\n",
      "5\n",
      "6\n",
      "7\n",
      "8\n",
      "9\n",
      "10\n"
     ]
    },
    {
     "data": {
      "text/plain": [
       "[11, -9, -11, 13, 15]"
      ]
     },
     "execution_count": 33,
     "metadata": {},
     "output_type": "execute_result"
    }
   ],
   "source": [
    "find_five_digit()"
   ]
  },
  {
   "cell_type": "code",
   "execution_count": null,
   "id": "b129a641",
   "metadata": {},
   "outputs": [],
   "source": []
  }
 ],
 "metadata": {
  "kernelspec": {
   "display_name": "Python 3 (ipykernel)",
   "language": "python",
   "name": "python3"
  },
  "language_info": {
   "codemirror_mode": {
    "name": "ipython",
    "version": 3
   },
   "file_extension": ".py",
   "mimetype": "text/x-python",
   "name": "python",
   "nbconvert_exporter": "python",
   "pygments_lexer": "ipython3",
   "version": "3.11.5"
  }
 },
 "nbformat": 4,
 "nbformat_minor": 5
}
